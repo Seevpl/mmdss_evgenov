{
 "cells": [
  {
   "cell_type": "code",
   "execution_count": 257,
   "id": "ce401707",
   "metadata": {},
   "outputs": [],
   "source": [
    "import numpy as np\n",
    "import re"
   ]
  },
  {
   "cell_type": "code",
   "execution_count": 258,
   "id": "f607bf2a",
   "metadata": {},
   "outputs": [],
   "source": [
    "f = open('test', 'r')\n",
    "lines = f.readlines()"
   ]
  },
  {
   "cell_type": "code",
   "execution_count": 259,
   "id": "6f52c74e",
   "metadata": {
    "scrolled": true
   },
   "outputs": [
    {
     "data": {
      "text/plain": [
       "['3*x1-2*x2+4*x3+22->max\\n',\n",
       " 'x1+x2+3*x3<=12\\n',\n",
       " '2*x1+4*x2<=14\\n',\n",
       " 'x1+2*x2<=6\\n',\n",
       " 'x1>=0\\n',\n",
       " 'x2>=0\\n',\n",
       " 'x3>=0']"
      ]
     },
     "execution_count": 259,
     "metadata": {},
     "output_type": "execute_result"
    }
   ],
   "source": [
    "lines"
   ]
  },
  {
   "cell_type": "code",
   "execution_count": 260,
   "id": "8b9284ab",
   "metadata": {},
   "outputs": [],
   "source": [
    "#Составляем список и множество всех переменных, а также множество переменных, имеющих условие о положительности\n",
    "var_list = re.findall(r\"(?<=x)\\d+\", lines[0])\n",
    "all_vars = set(var_list)\n",
    "pat0 = re.compile(r\"x\\d+>=0\\n*\")\n",
    "pos_vars = set()\n",
    "pos_cond_line = 0\n",
    "for i in range(1, len(lines)):\n",
    "    if pat0.match(lines[i]):\n",
    "        pos_vars.add(re.search(r'\\d+', lines[i]).group())\n",
    "        if pos_cond_line == 0:\n",
    "            pos_cond_line = i"
   ]
  },
  {
   "cell_type": "code",
   "execution_count": 261,
   "id": "3998584c",
   "metadata": {},
   "outputs": [
    {
     "data": {
      "text/plain": [
       "{'1', '2', '3'}"
      ]
     },
     "execution_count": 261,
     "metadata": {},
     "output_type": "execute_result"
    }
   ],
   "source": [
    "pos_vars"
   ]
  },
  {
   "cell_type": "code",
   "execution_count": 262,
   "id": "d5b49ace",
   "metadata": {},
   "outputs": [
    {
     "data": {
      "text/plain": [
       "set()"
      ]
     },
     "execution_count": 262,
     "metadata": {},
     "output_type": "execute_result"
    }
   ],
   "source": [
    "all_vars - pos_vars"
   ]
  },
  {
   "cell_type": "code",
   "execution_count": 263,
   "id": "647a2a10",
   "metadata": {},
   "outputs": [],
   "source": [
    "#Функция замены переменных, не имеющих условий положительности\n",
    "def rand_var_replace(matr, c, var_to_replace):\n",
    "    new_var_col = []\n",
    "    for i in range(matr.shape[0]):\n",
    "        new_var_col.append([-matr[i][var_to_replace - 1]])\n",
    "    matr = np.hstack((matr, new_var_col))\n",
    "    c = np.append(c, -c[var_to_replace - 1])\n",
    "    return matr, c"
   ]
  },
  {
   "cell_type": "code",
   "execution_count": 264,
   "id": "d70e0b8d",
   "metadata": {},
   "outputs": [],
   "source": [
    "#составляем матрицу A и вектора b и c. Также сохраним в переменную свободный коэффициент\n",
    "#матрица A\n",
    "A = ['' for _ in range(len(var_list))]\n",
    "\n",
    "for j in range(1, pos_cond_line):\n",
    "    #смотрим на условия построчно\n",
    "    temp = lines[j]\n",
    "    temp_arr = list()\n",
    "    for k in var_list:\n",
    "        #ищем переменную в строке и добавляем в таблицу коэффициент перед ней\n",
    "        str_search0 = f\"-?\\d+(?=\\*x{k})\"\n",
    "        coef = re.findall(str_search0, temp)\n",
    "        if coef == []:\n",
    "            str_search1 = f\"-?x{k}\"\n",
    "            coef = re.findall(str_search1, temp)\n",
    "            if coef == []:\n",
    "                temp_arr.append(0)\n",
    "            elif coef[0][0] == \"-\":\n",
    "                temp_arr.append(-1)\n",
    "            else:\n",
    "                temp_arr.append(1)\n",
    "        else:\n",
    "            temp_arr.append(str(coef[0]))\n",
    "    A = np.vstack([A, temp_arr])\n",
    "A = np.delete(A, 0, axis = 0)\n",
    "A = A.astype(np.float64)\n",
    "\n",
    "#вектор b\n",
    "b = np.array([])\n",
    "for l in range(1, pos_cond_line):\n",
    "    temp = re.findall(r\"<=-?\\d+|>=-?\\d+\", lines[l])\n",
    "    b = np.append(b, temp)\n",
    "\n",
    "#вектор c\n",
    "c = np.array(re.findall(r\"-?\\d+(?=\\*x)\", lines[0]))\n",
    "с = c.astype(str)\n",
    "c = c.astype(np.float64)\n",
    "\n",
    "#свободный элемент Q\n",
    "neg_Q = re.findall(r\"[+,-]\\d+(?=-)\", lines[0])[0]\n",
    "if neg_Q[0] == '+':\n",
    "    neg_Q = '-' + neg_Q[1:]\n",
    "else:\n",
    "    neg_Q = neg_Q[1:]\n",
    "neg_Q = float(neg_Q)"
   ]
  },
  {
   "cell_type": "code",
   "execution_count": 265,
   "id": "c1c8f8ad",
   "metadata": {},
   "outputs": [],
   "source": [
    "#проверка, все ли переменные имеют условие о положительности, и добавление новых переменных с данным условием\n",
    "neg_replacements = {}\n",
    "if pos_vars != all_vars:\n",
    "    neg_vars = all_vars - pos_vars\n",
    "    for var in neg_vars:\n",
    "        #создаём словарь, где ключом является номер заменяемой переменной (на его место помещается переменная из замены,\n",
    "        #идущая с плюсом), а значением - номер, который для простоты присваивается переменной из замены, идущей с плюсом.\n",
    "        neg_replacements[var] = A.shape[1] + 1\n",
    "        A, c = rand_var_replace(A, c, int(var))"
   ]
  },
  {
   "cell_type": "code",
   "execution_count": 266,
   "id": "2eb850f2",
   "metadata": {},
   "outputs": [
    {
     "data": {
      "text/plain": [
       "array([ 3., -2.,  4.])"
      ]
     },
     "execution_count": 266,
     "metadata": {},
     "output_type": "execute_result"
    }
   ],
   "source": [
    "c"
   ]
  },
  {
   "cell_type": "code",
   "execution_count": 267,
   "id": "0fbd695e",
   "metadata": {},
   "outputs": [
    {
     "data": {
      "text/plain": [
       "array([[1., 1., 3.],\n",
       "       [2., 4., 0.],\n",
       "       [1., 2., 0.]])"
      ]
     },
     "execution_count": 267,
     "metadata": {},
     "output_type": "execute_result"
    }
   ],
   "source": [
    "A"
   ]
  },
  {
   "cell_type": "code",
   "execution_count": 268,
   "id": "84e83354",
   "metadata": {},
   "outputs": [
    {
     "data": {
      "text/plain": [
       "array(['<=12', '<=14', '<=6'], dtype='<U32')"
      ]
     },
     "execution_count": 268,
     "metadata": {},
     "output_type": "execute_result"
    }
   ],
   "source": [
    "b"
   ]
  },
  {
   "cell_type": "code",
   "execution_count": 269,
   "id": "a56fe2fa",
   "metadata": {},
   "outputs": [
    {
     "data": {
      "text/plain": [
       "-22.0"
      ]
     },
     "execution_count": 269,
     "metadata": {},
     "output_type": "execute_result"
    }
   ],
   "source": [
    "neg_Q"
   ]
  },
  {
   "cell_type": "markdown",
   "id": "b16a995c",
   "metadata": {},
   "source": [
    "Приведение к каноническому виду"
   ]
  },
  {
   "cell_type": "code",
   "execution_count": 271,
   "id": "11cb1ca4",
   "metadata": {},
   "outputs": [],
   "source": [
    "#Проверка того, что решается задача минимизации, приведение к ней при необходимости\n",
    "if lines[0][-4:-1] == 'max':\n",
    "    c *= -1\n",
    "    neg_Q *= -1"
   ]
  },
  {
   "cell_type": "code",
   "execution_count": 272,
   "id": "a937e526",
   "metadata": {},
   "outputs": [],
   "source": [
    "#Устранение неравенств, приведение их к равенствам посредством добавления новых переменных\n",
    "for i in range(len(b)):\n",
    "    if \"<\" in b[i]:\n",
    "        b[i] = re.findall(r\"\\d+\", b[i])[0]\n",
    "        A = np.hstack((A, np.zeros((3, 1), dtype=\"float\")))\n",
    "        A[i][-1] = 1.0\n",
    "        c = np.append(c, 0.0)\n",
    "    elif \">\" in b[i]:\n",
    "        b[i] = re.findall(r\"\\d+\", b[i])[0]\n",
    "        A = np.hstack((A, np.zeros((3, 1), dtype=\"float\")))\n",
    "        A[i][-1] = -1.0\n",
    "        c = np.append(c, 0.0)\n",
    "    else:\n",
    "        b[i] = re.findall(r\"\\d+\", b[i])[0]\n",
    "b = b.astype(str)\n",
    "b = b.astype(float)"
   ]
  },
  {
   "cell_type": "markdown",
   "id": "31b5df7e",
   "metadata": {},
   "source": [
    "Дополнительная задача"
   ]
  },
  {
   "cell_type": "code",
   "execution_count": 273,
   "id": "e06509ee",
   "metadata": {},
   "outputs": [],
   "source": [
    "#Проверка необходимости решения дополнительной задачи\n",
    "\n",
    "trans_A = A.T.copy()\n",
    "diag_matrix = np.diag([1.0 for _ in range(min(trans_A.shape))])\n",
    "base = {}\n",
    "\n",
    "for i in range(len(diag_matrix)):\n",
    "    if diag_matrix[i].tolist() in trans_A.tolist():\n",
    "        temp = np.where(np.all(diag_matrix[i] == trans_A, axis = 1))\n",
    "        base[i] = temp[0][0]\n",
    "    else:\n",
    "        base[i] = None"
   ]
  },
  {
   "cell_type": "code",
   "execution_count": 274,
   "id": "697425e5",
   "metadata": {},
   "outputs": [],
   "source": [
    "if None in base.values():\n",
    "    print('решаем дополнительную задачу')"
   ]
  },
  {
   "cell_type": "code",
   "execution_count": 275,
   "id": "89dadcd5",
   "metadata": {
    "scrolled": true
   },
   "outputs": [
    {
     "data": {
      "text/plain": [
       "{0: 3, 1: 4, 2: 5}"
      ]
     },
     "execution_count": 275,
     "metadata": {},
     "output_type": "execute_result"
    }
   ],
   "source": [
    "base"
   ]
  },
  {
   "cell_type": "markdown",
   "id": "0722ea5e",
   "metadata": {},
   "source": [
    "Теперь перейдём к построению начальной таблицы"
   ]
  },
  {
   "cell_type": "code",
   "execution_count": 277,
   "id": "e2b9a62e",
   "metadata": {},
   "outputs": [],
   "source": [
    "def create_table(A, b, c, neg_Q, base):\n",
    "    #перепишем A, c и Q\n",
    "    A_new = A.copy()\n",
    "    c_new = c.copy()\n",
    "    col_indices = [i for i in range(A.shape[1])]\n",
    "    row_indices = [j for j in range(A.shape[0])]\n",
    "    for key, value in base.items():\n",
    "        row_indices[key] = base[key]\n",
    "        col_indices.remove(base[key])\n",
    "        if c[value] != 0:\n",
    "            neg_Q += b[key] * c[value]\n",
    "            for i in range(len(c)):\n",
    "                c_new[i] -= c[value] * A[key][i]\n",
    "    A_new = np.delete(A_new, row_indices, 1)\n",
    "    c_new = np.delete(c_new, row_indices, 0)\n",
    "    return col_indices, row_indices, A_new, c_new, neg_Q"
   ]
  },
  {
   "cell_type": "code",
   "execution_count": 291,
   "id": "3ff1807c",
   "metadata": {},
   "outputs": [],
   "source": [
    "col_indices, row_indices, A_new, c_new, Q_new = create_table(A, b, c, neg_Q, base)"
   ]
  },
  {
   "cell_type": "code",
   "execution_count": 292,
   "id": "7797f2d6",
   "metadata": {},
   "outputs": [
    {
     "data": {
      "text/plain": [
       "array([[1., 1., 3.],\n",
       "       [2., 4., 0.],\n",
       "       [1., 2., 0.]])"
      ]
     },
     "execution_count": 292,
     "metadata": {},
     "output_type": "execute_result"
    }
   ],
   "source": [
    "A_new"
   ]
  },
  {
   "cell_type": "code",
   "execution_count": 293,
   "id": "4a784961",
   "metadata": {},
   "outputs": [
    {
     "data": {
      "text/plain": [
       "array([ 3., -2.,  4.])"
      ]
     },
     "execution_count": 293,
     "metadata": {},
     "output_type": "execute_result"
    }
   ],
   "source": [
    "c_new"
   ]
  },
  {
   "cell_type": "code",
   "execution_count": 294,
   "id": "663fd6d0",
   "metadata": {},
   "outputs": [
    {
     "data": {
      "text/plain": [
       "[0, 1, 2]"
      ]
     },
     "execution_count": 294,
     "metadata": {},
     "output_type": "execute_result"
    }
   ],
   "source": [
    "col_indices"
   ]
  },
  {
   "cell_type": "code",
   "execution_count": 295,
   "id": "f3d9077c",
   "metadata": {},
   "outputs": [
    {
     "data": {
      "text/plain": [
       "[3, 4, 5]"
      ]
     },
     "execution_count": 295,
     "metadata": {},
     "output_type": "execute_result"
    }
   ],
   "source": [
    "row_indices"
   ]
  },
  {
   "cell_type": "code",
   "execution_count": 296,
   "id": "1c041561",
   "metadata": {},
   "outputs": [
    {
     "data": {
      "text/plain": [
       "22.0"
      ]
     },
     "execution_count": 296,
     "metadata": {},
     "output_type": "execute_result"
    }
   ],
   "source": [
    "Q_new"
   ]
  },
  {
   "cell_type": "code",
   "execution_count": 297,
   "id": "8529012c",
   "metadata": {},
   "outputs": [
    {
     "data": {
      "text/plain": [
       "array([12., 14.,  6.])"
      ]
     },
     "execution_count": 297,
     "metadata": {},
     "output_type": "execute_result"
    }
   ],
   "source": [
    "b"
   ]
  },
  {
   "cell_type": "markdown",
   "id": "a75f1a37",
   "metadata": {},
   "source": [
    "Напишем функции выбора разрешающих столбца и строки"
   ]
  },
  {
   "cell_type": "code",
   "execution_count": 304,
   "id": "3b61662d",
   "metadata": {},
   "outputs": [],
   "source": [
    "#Функция выбора разрешающего столбца\n",
    "def select_col(c):\n",
    "    return np.argmin(c)\n",
    "\n",
    "#Функция выбора разрешающей строки\n",
    "def select_row(selected_col, A, b):\n",
    "    selected_row =  np.argmin([b[i] / A[i][selected_col] if A[i][selected_col] > 0\n",
    "                               else np.inf for i in range(b.shape[0])])\n",
    "    return selected_row\n",
    "\n",
    "#Переписывание таблицы по выбранному разрешающему элементу\n",
    "def recount_table(selected_row, selected_col, A, b, c, neg_Q, col_indices, row_indices):\n",
    "    A_new, b_new, c_new = A.copy(), b.copy(), c.copy()\n",
    "    \n",
    "    #Пересчитаем A\n",
    "    for i in range(A.shape[0]):\n",
    "        for j in range(A.shape[0]):\n",
    "            if i == selected_row and j == selected_col:\n",
    "                A_new[i][j] = 1 / A[selected_row][selected_col]\n",
    "            elif i == selected_row:\n",
    "                A_new[i][j] = A[i][j] / A[selected_row][selected_col]\n",
    "            elif j == selected_col:\n",
    "                A_new[i][j] = -1 * A[i][j] / A[selected_row][selected_col]\n",
    "            else:\n",
    "                A_new[i][j] = A[i][j] - A[selected_row][j] * A[i][selected_col] / A[selected_row][selected_col]\n",
    "\n",
    "    #Пересчитаем b\n",
    "    for k in range(len(b)):\n",
    "        if k == selected_row:\n",
    "            b_new[k] = b[k] / A[selected_row][selected_col]\n",
    "        else:\n",
    "            b_new[k] = b[k] - b[selected_row] * A[k][selected_col] / A[selected_row][selected_col]\n",
    "    \n",
    "    #Пересчитаем c\n",
    "    for l in range(len(c)):\n",
    "        if l == selected_col:\n",
    "            c_new[l] = c[l] / A[selected_row][selected_col]\n",
    "        else:\n",
    "            c_new[l] = c[l] - c[selected_col] * A[selected_row][l] / A[selected_row][selected_col]\n",
    "    \n",
    "    #Пересчитаем neg_Q\n",
    "    neg_Q -= b[selected_row] * c[selected_col] / A[selected_row][selected_col]\n",
    "    \n",
    "    #Поменяем местами индексы переменных\n",
    "    old_col_index = col_indices[selected_col]\n",
    "    col_indices[selected_col] = row_indices[selected_row]\n",
    "    row_indices[selected_row] = old_col_index\n",
    "    \n",
    "    return A_new, b_new, c_new, neg_Q, col_indices, row_indices"
   ]
  },
  {
   "cell_type": "code",
   "execution_count": 313,
   "id": "730b28dc",
   "metadata": {},
   "outputs": [],
   "source": [
    "A = np.array([\n",
    "    [15.0, 17.0, 20.0, 9.0],\n",
    "    [8.0, 17.0, 10.0, 15.0],\n",
    "    [14.0, 7.0, 15.0, 21.0]\n",
    "])\n",
    "b = np.array([48.0, 50.0, 54.0])\n",
    "c = np.array([-39.0, -45.0, -50.0, -48.0])\n",
    "neg_Q = 0.0\n",
    "col_indices, row_indices = [1, 2, 3, 4], [5, 6, 7]"
   ]
  },
  {
   "cell_type": "code",
   "execution_count": 314,
   "id": "7748d880",
   "metadata": {},
   "outputs": [
    {
     "data": {
      "text/plain": [
       "2"
      ]
     },
     "execution_count": 314,
     "metadata": {},
     "output_type": "execute_result"
    }
   ],
   "source": [
    "selected_col = select_col(c)\n",
    "selected_col"
   ]
  },
  {
   "cell_type": "code",
   "execution_count": 315,
   "id": "bf8be238",
   "metadata": {},
   "outputs": [
    {
     "data": {
      "text/plain": [
       "0"
      ]
     },
     "execution_count": 315,
     "metadata": {},
     "output_type": "execute_result"
    }
   ],
   "source": [
    "selected_row = select_row(selected_col, A, b)\n",
    "selected_row"
   ]
  },
  {
   "cell_type": "code",
   "execution_count": 316,
   "id": "c4208e99",
   "metadata": {},
   "outputs": [],
   "source": [
    "A_new, b_new, c_new, neg_Q, col_indices, row_indices = recount_table(selected_row, selected_col, A, b, c, neg_Q, col_indices, row_indices)"
   ]
  },
  {
   "cell_type": "code",
   "execution_count": 317,
   "id": "fdc7e5c1",
   "metadata": {},
   "outputs": [
    {
     "data": {
      "text/plain": [
       "array([[ 0.75,  0.85,  0.05,  9.  ],\n",
       "       [ 0.5 ,  8.5 , -0.5 , 15.  ],\n",
       "       [ 2.75, -5.75, -0.75, 21.  ]])"
      ]
     },
     "execution_count": 317,
     "metadata": {},
     "output_type": "execute_result"
    }
   ],
   "source": [
    "A_new"
   ]
  },
  {
   "cell_type": "code",
   "execution_count": 318,
   "id": "5ee08c6b",
   "metadata": {},
   "outputs": [
    {
     "data": {
      "text/plain": [
       "array([ 2.4, 26. , 18. ])"
      ]
     },
     "execution_count": 318,
     "metadata": {},
     "output_type": "execute_result"
    }
   ],
   "source": [
    "b_new"
   ]
  },
  {
   "cell_type": "code",
   "execution_count": 319,
   "id": "a296404a",
   "metadata": {},
   "outputs": [
    {
     "data": {
      "text/plain": [
       "120.0"
      ]
     },
     "execution_count": 319,
     "metadata": {},
     "output_type": "execute_result"
    }
   ],
   "source": [
    "neg_Q"
   ]
  },
  {
   "cell_type": "code",
   "execution_count": 320,
   "id": "882b98e9",
   "metadata": {},
   "outputs": [
    {
     "data": {
      "text/plain": [
       "array([ -1.5,  -2.5,  -2.5, -25.5])"
      ]
     },
     "execution_count": 320,
     "metadata": {},
     "output_type": "execute_result"
    }
   ],
   "source": [
    "c_new"
   ]
  },
  {
   "cell_type": "code",
   "execution_count": 321,
   "id": "967da908",
   "metadata": {},
   "outputs": [
    {
     "data": {
      "text/plain": [
       "[1, 2, 5, 4]"
      ]
     },
     "execution_count": 321,
     "metadata": {},
     "output_type": "execute_result"
    }
   ],
   "source": [
    "col_indices"
   ]
  },
  {
   "cell_type": "code",
   "execution_count": 322,
   "id": "83baaa82",
   "metadata": {},
   "outputs": [
    {
     "data": {
      "text/plain": [
       "[3, 6, 7]"
      ]
     },
     "execution_count": 322,
     "metadata": {},
     "output_type": "execute_result"
    }
   ],
   "source": [
    "row_indices"
   ]
  },
  {
   "cell_type": "code",
   "execution_count": null,
   "id": "173aafb5",
   "metadata": {},
   "outputs": [],
   "source": []
  }
 ],
 "metadata": {
  "kernelspec": {
   "display_name": "Python 3 (ipykernel)",
   "language": "python",
   "name": "python3"
  },
  "language_info": {
   "codemirror_mode": {
    "name": "ipython",
    "version": 3
   },
   "file_extension": ".py",
   "mimetype": "text/x-python",
   "name": "python",
   "nbconvert_exporter": "python",
   "pygments_lexer": "ipython3",
   "version": "3.9.7"
  }
 },
 "nbformat": 4,
 "nbformat_minor": 5
}
