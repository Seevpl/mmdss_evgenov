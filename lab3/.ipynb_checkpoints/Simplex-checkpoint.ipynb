{
 "cells": [
  {
   "cell_type": "code",
   "execution_count": 137,
   "id": "ce401707",
   "metadata": {},
   "outputs": [],
   "source": [
    "import numpy as np\n",
    "import re\n",
    "import pandas as pd"
   ]
  },
  {
   "cell_type": "code",
   "execution_count": 177,
   "id": "f607bf2a",
   "metadata": {},
   "outputs": [],
   "source": [
    "f = open('test3', 'r')\n",
    "lines = f.readlines()"
   ]
  },
  {
   "cell_type": "code",
   "execution_count": 178,
   "id": "6f52c74e",
   "metadata": {
    "scrolled": true
   },
   "outputs": [
    {
     "data": {
      "text/plain": [
       "['2*x1+x2-x3->min\\n',\n",
       " '3*x1+2*x3>=12\\n',\n",
       " 'x1-x2+x3=5\\n',\n",
       " 'x1+x3<=6\\n',\n",
       " 'x1>=0\\n',\n",
       " 'x2>=0\\n',\n",
       " 'x3>=0']"
      ]
     },
     "execution_count": 178,
     "metadata": {},
     "output_type": "execute_result"
    }
   ],
   "source": [
    "lines"
   ]
  },
  {
   "cell_type": "code",
   "execution_count": 179,
   "id": "8b9284ab",
   "metadata": {},
   "outputs": [],
   "source": [
    "#Составляем список и множество всех переменных, а также множество переменных, имеющих условие о положительности\n",
    "var_list = re.findall(r\"(?<=x)\\d+\", lines[0])\n",
    "all_vars = set(var_list)\n",
    "pat0 = re.compile(r\"x\\d+>=0\\n*\")\n",
    "pos_vars = set()\n",
    "pos_cond_line = 0\n",
    "for i in range(1, len(lines)):\n",
    "    if pat0.match(lines[i]):\n",
    "        pos_vars.add(re.search(r'\\d+', lines[i]).group())\n",
    "        if pos_cond_line == 0:\n",
    "            pos_cond_line = i"
   ]
  },
  {
   "cell_type": "code",
   "execution_count": 180,
   "id": "3998584c",
   "metadata": {},
   "outputs": [
    {
     "data": {
      "text/plain": [
       "{'1', '2', '3'}"
      ]
     },
     "execution_count": 180,
     "metadata": {},
     "output_type": "execute_result"
    }
   ],
   "source": [
    "pos_vars"
   ]
  },
  {
   "cell_type": "code",
   "execution_count": 181,
   "id": "d5b49ace",
   "metadata": {},
   "outputs": [
    {
     "data": {
      "text/plain": [
       "set()"
      ]
     },
     "execution_count": 181,
     "metadata": {},
     "output_type": "execute_result"
    }
   ],
   "source": [
    "all_vars - pos_vars"
   ]
  },
  {
   "cell_type": "code",
   "execution_count": 182,
   "id": "647a2a10",
   "metadata": {},
   "outputs": [],
   "source": [
    "#Функция замены переменных, не имеющих условий положительности\n",
    "def rand_var_replace(matr, c, var_to_replace):\n",
    "    new_var_col = []\n",
    "    for i in range(matr.shape[0]):\n",
    "        new_var_col.append([-matr[i][var_to_replace - 1]])\n",
    "    matr = np.hstack((matr, new_var_col))\n",
    "    c = np.append(c, -c[var_to_replace - 1])\n",
    "    return matr, c"
   ]
  },
  {
   "cell_type": "code",
   "execution_count": 188,
   "id": "d70e0b8d",
   "metadata": {},
   "outputs": [],
   "source": [
    "#составляем матрицу A и вектора b и c. Также сохраним в переменную свободный коэффициент\n",
    "#матрица A\n",
    "A = ['' for _ in range(len(var_list))]\n",
    "\n",
    "for j in range(1, pos_cond_line):\n",
    "    #смотрим на условия построчно\n",
    "    temp = lines[j]\n",
    "    temp_arr = list()\n",
    "    for k in var_list:\n",
    "        #ищем переменную в строке и добавляем в таблицу коэффициент перед ней\n",
    "        str_search0 = f\"-?\\d+(?=\\*x{k})\"\n",
    "        coef = re.findall(str_search0, temp)\n",
    "        if coef == []:\n",
    "            str_search1 = f\"-?x{k}\"\n",
    "            coef = re.findall(str_search1, temp)\n",
    "            if coef == []:\n",
    "                temp_arr.append(0)\n",
    "            elif coef[0][0] == \"-\":\n",
    "                temp_arr.append(-1)\n",
    "            else:\n",
    "                temp_arr.append(1)\n",
    "        else:\n",
    "            temp_arr.append(str(coef[0]))\n",
    "    A = np.vstack([A, temp_arr])\n",
    "A = np.delete(A, 0, axis = 0)\n",
    "A = A.astype(np.float64)\n",
    "\n",
    "#вектор b\n",
    "b = np.array([])\n",
    "for l in range(1, pos_cond_line):\n",
    "    temp = re.findall(r\"<=-?\\d+|>=-?\\d+\", lines[l])\n",
    "    if not temp:\n",
    "        temp = re.findall(r\"=-?\\d+\", lines[l])\n",
    "    b = np.append(b, temp)\n",
    "\n",
    "#вектор c\n",
    "lines[0] = lines[0].replace('+x', '+1*x')\n",
    "lines[0] = lines[0].replace('-x', '-1*x')\n",
    "c = np.array(re.findall(r\"-?\\d+(?=\\*x)\", lines[0]))\n",
    "с = c.astype(str)\n",
    "c = c.astype(np.float64)\n",
    "\n",
    "#свободный элемент Q\n",
    "neg_Q = re.findall(r\"[+,-]\\d+(?=-)\", lines[0])\n",
    "if neg_Q:\n",
    "    neg_Q = neg_Q[0]\n",
    "    if neg_Q[0] == '+':\n",
    "        neg_Q = '-' + neg_Q[1:]\n",
    "    else:\n",
    "        neg_Q = neg_Q[1:]\n",
    "    neg_Q = float(neg_Q)\n",
    "else:\n",
    "    neg_Q = 0.0"
   ]
  },
  {
   "cell_type": "code",
   "execution_count": 189,
   "id": "c1c8f8ad",
   "metadata": {},
   "outputs": [],
   "source": [
    "#проверка, все ли переменные имеют условие о положительности, и добавление новых переменных с данным условием\n",
    "neg_replacements = {}\n",
    "if pos_vars != all_vars:\n",
    "    neg_vars = all_vars - pos_vars\n",
    "    for var in neg_vars:\n",
    "        #создаём словарь, где ключом является номер заменяемой переменной (на его место помещается переменная из замены,\n",
    "        #идущая с плюсом), а значением - номер, который для простоты присваивается переменной из замены, идущей с плюсом.\n",
    "        neg_replacements[var] = A.shape[1] + 1\n",
    "        A, c = rand_var_replace(A, c, int(var))"
   ]
  },
  {
   "cell_type": "code",
   "execution_count": 190,
   "id": "2eb850f2",
   "metadata": {},
   "outputs": [
    {
     "data": {
      "text/plain": [
       "array([ 2.,  1., -1.])"
      ]
     },
     "execution_count": 190,
     "metadata": {},
     "output_type": "execute_result"
    }
   ],
   "source": [
    "c"
   ]
  },
  {
   "cell_type": "code",
   "execution_count": 191,
   "id": "0fbd695e",
   "metadata": {},
   "outputs": [
    {
     "data": {
      "text/plain": [
       "array([[ 3.,  0.,  2.],\n",
       "       [ 1., -1.,  1.],\n",
       "       [ 1.,  0.,  1.]])"
      ]
     },
     "execution_count": 191,
     "metadata": {},
     "output_type": "execute_result"
    }
   ],
   "source": [
    "A"
   ]
  },
  {
   "cell_type": "code",
   "execution_count": 192,
   "id": "84e83354",
   "metadata": {},
   "outputs": [
    {
     "data": {
      "text/plain": [
       "array(['>=12', '=5', '<=6'], dtype='<U32')"
      ]
     },
     "execution_count": 192,
     "metadata": {},
     "output_type": "execute_result"
    }
   ],
   "source": [
    "b"
   ]
  },
  {
   "cell_type": "code",
   "execution_count": 193,
   "id": "a56fe2fa",
   "metadata": {},
   "outputs": [
    {
     "data": {
      "text/plain": [
       "0.0"
      ]
     },
     "execution_count": 193,
     "metadata": {},
     "output_type": "execute_result"
    }
   ],
   "source": [
    "neg_Q"
   ]
  },
  {
   "cell_type": "markdown",
   "id": "b16a995c",
   "metadata": {},
   "source": [
    "Приведение к каноническому виду"
   ]
  },
  {
   "cell_type": "code",
   "execution_count": 194,
   "id": "11cb1ca4",
   "metadata": {},
   "outputs": [],
   "source": [
    "#Проверка того, что решается задача минимизации, приведение к ней при необходимости\n",
    "if lines[0][-4:-1] == 'max':\n",
    "    c *= -1\n",
    "    neg_Q *= -1"
   ]
  },
  {
   "cell_type": "code",
   "execution_count": 195,
   "id": "a937e526",
   "metadata": {},
   "outputs": [],
   "source": [
    "#Устранение неравенств, приведение их к равенствам посредством добавления новых переменных\n",
    "for i in range(len(b)):\n",
    "    if \"<\" in b[i]:\n",
    "        b[i] = re.findall(r\"-?\\d+\", b[i])[0]\n",
    "        A = np.hstack((A, np.zeros((3, 1), dtype=\"float\")))\n",
    "        A[i][-1] = 1.0\n",
    "        c = np.append(c, 0.0)\n",
    "    elif \">\" in b[i]:\n",
    "        b[i] = re.findall(r\"-?\\d+\", b[i])[0]\n",
    "        A = np.hstack((A, np.zeros((3, 1), dtype=\"float\")))\n",
    "        A[i][-1] = -1.0\n",
    "        c = np.append(c, 0.0)\n",
    "    else:\n",
    "        b[i] = re.findall(r\"-?\\d+\", b[i])[0]\n",
    "b = b.astype(str)\n",
    "b = b.astype(float)"
   ]
  },
  {
   "cell_type": "markdown",
   "id": "0722ea5e",
   "metadata": {},
   "source": [
    "Теперь перейдём к построению начальной таблицы"
   ]
  },
  {
   "cell_type": "code",
   "execution_count": 196,
   "id": "e2b9a62e",
   "metadata": {},
   "outputs": [],
   "source": [
    "def create_table(A, b, c, neg_Q, base):\n",
    "    #перепишем A, c и Q\n",
    "    A_new = A.copy()\n",
    "    c_new = c.copy()\n",
    "    col_indices = [i for i in range(A.shape[1])]\n",
    "    row_indices = [j for j in range(A.shape[0])]\n",
    "    for key, value in base.items():\n",
    "        row_indices[key] = base[key]\n",
    "        col_indices.remove(base[key])\n",
    "        if c[value] != 0:\n",
    "            neg_Q += b[key] * c[value]\n",
    "            for i in range(len(c)):\n",
    "                c_new[i] -= c[value] * A[key][i]\n",
    "    A_new = np.delete(A_new, row_indices, 1)\n",
    "    c_new = np.delete(c_new, row_indices, 0)\n",
    "    return col_indices, row_indices, A_new, c_new, neg_Q"
   ]
  },
  {
   "cell_type": "markdown",
   "id": "a75f1a37",
   "metadata": {},
   "source": [
    "Напишем функции выбора разрешающих столбца и строки и пересчёта таблицы"
   ]
  },
  {
   "cell_type": "code",
   "execution_count": 209,
   "id": "3b61662d",
   "metadata": {},
   "outputs": [],
   "source": [
    "#Функция выбора разрешающего столбца\n",
    "def select_col(c):\n",
    "    return np.argmin(c)\n",
    "\n",
    "#Функция выбора разрешающей строки\n",
    "def select_row(selected_col, A, b):\n",
    "    selected_row =  np.argmin([b[i] / A[i][selected_col] if A[i][selected_col] > 0\n",
    "                               else np.inf for i in range(b.shape[0])])\n",
    "    return selected_row\n",
    "\n",
    "#Переписывание таблицы по выбранному разрешающему элементу\n",
    "def recount_table(selected_row, selected_col, A, b, c, neg_Q, col_indices, row_indices):\n",
    "    A_new, b_new, c_new = A.copy(), b.copy(), c.copy()\n",
    "    \n",
    "    #Пересчитаем A\n",
    "    for i in range(A.shape[0]):\n",
    "        for j in range(A.shape[1]):\n",
    "            if i == selected_row and j == selected_col:\n",
    "                A_new[i][j] = 1 / A[selected_row][selected_col]\n",
    "            elif i == selected_row:\n",
    "                A_new[i][j] = A[i][j] / A[selected_row][selected_col]\n",
    "            elif j == selected_col:\n",
    "                A_new[i][j] = -1 * A[i][j] / A[selected_row][selected_col]\n",
    "            else:\n",
    "                A_new[i][j] = A[i][j] - A[selected_row][j] * A[i][selected_col] / A[selected_row][selected_col]\n",
    "\n",
    "    #Пересчитаем b\n",
    "    for k in range(len(b)):\n",
    "        if k == selected_row:\n",
    "            b_new[k] = b[k] / A[selected_row][selected_col]\n",
    "        else:\n",
    "            b_new[k] = b[k] - b[selected_row] * A[k][selected_col] / A[selected_row][selected_col]\n",
    "    \n",
    "    #Пересчитаем c\n",
    "    for l in range(len(c)):\n",
    "        if l == selected_col:\n",
    "            c_new[l] = -1 * c[l] / A[selected_row][selected_col]\n",
    "        else:\n",
    "            c_new[l] = c[l] - c[selected_col] * A[selected_row][l] / A[selected_row][selected_col]\n",
    "    \n",
    "    #Пересчитаем neg_Q\n",
    "    neg_Q -= b[selected_row] * c[selected_col] / A[selected_row][selected_col]\n",
    "    \n",
    "    #Поменяем местами индексы переменных\n",
    "    old_col_index = col_indices[selected_col]\n",
    "    col_indices[selected_col] = row_indices[selected_row]\n",
    "    row_indices[selected_row] = old_col_index\n",
    "    \n",
    "    return A_new, b_new, c_new, neg_Q, col_indices, row_indices"
   ]
  },
  {
   "cell_type": "code",
   "execution_count": 43,
   "id": "730b28dc",
   "metadata": {},
   "outputs": [
    {
     "data": {
      "text/plain": [
       "'\\nA = np.array([\\n    [15.0, 17.0, 20.0, 9.0],\\n    [8.0, 17.0, 10.0, 15.0],\\n    [14.0, 7.0, 15.0, 21.0]\\n])\\nb = np.array([48.0, 50.0, 54.0])\\nc = np.array([-39.0, -45.0, -50.0, -48.0])\\nneg_Q = 0.0\\ncol_indices, row_indices = [1, 2, 3, 4], [5, 6, 7]\\n'"
      ]
     },
     "execution_count": 43,
     "metadata": {},
     "output_type": "execute_result"
    }
   ],
   "source": [
    "\"\"\"\n",
    "A = np.array([\n",
    "    [15.0, 17.0, 20.0, 9.0],\n",
    "    [8.0, 17.0, 10.0, 15.0],\n",
    "    [14.0, 7.0, 15.0, 21.0]\n",
    "])\n",
    "b = np.array([48.0, 50.0, 54.0])\n",
    "c = np.array([-39.0, -45.0, -50.0, -48.0])\n",
    "neg_Q = 0.0\n",
    "col_indices, row_indices = [1, 2, 3, 4], [5, 6, 7]\n",
    "\"\"\""
   ]
  },
  {
   "cell_type": "markdown",
   "id": "9a69b318",
   "metadata": {},
   "source": [
    "Напишем функцию поиска базисных переменных и проверки необходимости решения вспомогательной задачи"
   ]
  },
  {
   "cell_type": "code",
   "execution_count": 198,
   "id": "e8dc3a09",
   "metadata": {},
   "outputs": [],
   "source": [
    "#Данная функция выдаёт найденный базис и True, если дополнительную задачу решать необходимо, или False иначе\n",
    "def check_base(A):\n",
    "    trans_A = A.T.copy()\n",
    "    diag_matrix = np.diag([1.0 for _ in range(min(trans_A.shape))])\n",
    "    base = {}\n",
    "\n",
    "    for i in range(len(diag_matrix)):\n",
    "        if diag_matrix[i].tolist() in trans_A.tolist():\n",
    "            temp = np.where(np.all(diag_matrix[i] == trans_A, axis = 1))\n",
    "            base[i] = temp[0][0]\n",
    "        else:\n",
    "            base[i] = None\n",
    "    if None in base.values():\n",
    "        return base, True\n",
    "    else:\n",
    "        return base, False"
   ]
  },
  {
   "cell_type": "code",
   "execution_count": 199,
   "id": "a85da430",
   "metadata": {},
   "outputs": [],
   "source": [
    "#Функция отображения симплекс-таблицы\n",
    "def simp_show(A, b, c, neg_Q, col_indices, row_indices):\n",
    "    temp_table = np.hstack((A, np.expand_dims(b, axis = 1)))\n",
    "    cols = col_indices.copy()\n",
    "    cols.append('b')\n",
    "    temp_df = pd.DataFrame(data = temp_table, index = row_indices, columns = cols)\n",
    "    print(temp_df)\n",
    "    print('c', c, neg_Q, '\\n')\n",
    "    pass"
   ]
  },
  {
   "cell_type": "markdown",
   "id": "66bb9ea9",
   "metadata": {},
   "source": [
    "Напишем функцию выполнения симплекс-метода"
   ]
  },
  {
   "cell_type": "code",
   "execution_count": 219,
   "id": "3b993787",
   "metadata": {},
   "outputs": [],
   "source": [
    "def simplex(A, b, c, neg_Q):\n",
    "    base, aux = check_base(A)\n",
    "    if aux:\n",
    "        #решаем дополнительную задачу\n",
    "        aux = aux_task(A, b)\n",
    "        if len(aux) == 1:\n",
    "            pass\n",
    "        else:\n",
    "            col_indices, row_indices, A, b, c, neg_Q = aux\n",
    "            base, _ = check_base(A)\n",
    "            simp_show(A, b, c, neg_Q, col_indices, row_indices)\n",
    "    else:\n",
    "        #создадим и выведем начальную таблицу\n",
    "        col_indices, row_indices, A, c, neg_Q = create_table(A, b, c, neg_Q, base)\n",
    "        simp_show(A, b, c, neg_Q, col_indices, row_indices)\n",
    "    #выполняем шаги симплекс-метода, пока в векторе c есть отрицательные коэффициенты\n",
    "    while any(i < 0 for i in c):\n",
    "        #находим разрешающий элемент\n",
    "        selected_col = select_col(c)\n",
    "        selected_row = select_row(selected_col, A, b)\n",
    "        #пересчитываем таблицу\n",
    "        A, b, c, neg_Q, col_indices, row_indices = recount_table(selected_row, selected_col, A, b, c,\n",
    "                                                                 neg_Q, col_indices, row_indices)\n",
    "        #отображаем результат шага\n",
    "        simp_show(A, b, c, neg_Q, col_indices, row_indices)\n",
    "    #в конце получаем результаты:\n",
    "    k = 0\n",
    "    for i in row_indices:\n",
    "        print(f\"x{i + 1} = {round(b[k], 2)}\")\n",
    "        k += 1\n",
    "    for j in col_indices:\n",
    "        print(f\"x{j + 1} = 0\")\n",
    "    print(f\"Qmin = {-neg_Q}\")\n",
    "    pass"
   ]
  },
  {
   "cell_type": "markdown",
   "id": "555e4694",
   "metadata": {},
   "source": [
    "Напишем функцию решения дополнительной задачи"
   ]
  },
  {
   "cell_type": "code",
   "execution_count": 220,
   "id": "335f7e6b",
   "metadata": {},
   "outputs": [],
   "source": [
    "def aux_task(A, b):\n",
    "    print(\"решаем дополнительную задачу\")\n",
    "    #перепишем A\n",
    "    A_new = A.copy()\n",
    "    fict_base = {}\n",
    "    for i in range(A.shape[0]):\n",
    "        fict_base[i] = A.shape[1] + i\n",
    "        A_new = np.hstack((A_new, np.zeros((3, 1), dtype=\"float\")))\n",
    "        A_new[i][-1] = 1.0\n",
    "    \n",
    "    col_indices = [i for i in range(A_new.shape[1])]\n",
    "    row_indices = [j for j in range(A_new.shape[0])]\n",
    "    for key, value in fict_base.items():\n",
    "        row_indices[key] = fict_base[key]\n",
    "        col_indices.remove(fict_base[key])\n",
    "    A_new = np.delete(A_new, row_indices, 1)\n",
    "    #вычислим c и Q\n",
    "    c = -1 * np.sum(A_new, axis=0)\n",
    "    neg_Q = -1 * np.sum(b)\n",
    "    #выведем начальную таблицу вспомогательной задачи\n",
    "    simp_show(A_new, b, c, neg_Q, col_indices, row_indices)\n",
    "    #выполняем шаги симплекс-метода, пока в векторе c есть отрицательные коэффициенты\n",
    "    b_new = b.copy()\n",
    "    while any(i < 0 for i in c):\n",
    "        #находим разрешающий элемент\n",
    "        selected_col = select_col(c)\n",
    "        selected_row = select_row(selected_col, A_new, b_new)\n",
    "        #пересчитываем таблицу\n",
    "        A_new, b_new, c, neg_Q, col_indices, row_indices = recount_table(selected_row, selected_col, A_new, b_new, c,\n",
    "                                                                         neg_Q, col_indices, row_indices)\n",
    "        #отображаем результат шага\n",
    "        simp_show(A_new, b_new, c, neg_Q, col_indices, row_indices)\n",
    "        #удаляем столбец, если он соответствует базисной переменной дополнительной задачи\n",
    "        if col_indices[selected_col] in fict_base.values():\n",
    "            A_new = np.delete(A_new, selected_col, 1)\n",
    "            del col_indices[selected_col]\n",
    "            c = np.delete(c, selected_col)\n",
    "    if neg_Q > 0.01:\n",
    "        print('задача не имеет решения')\n",
    "        return 'F'\n",
    "    else:\n",
    "        if not any(ind in fict_base.values() for ind in row_indices):\n",
    "            c_out = -1 * np.sum(A_new, axis=0)\n",
    "            neg_Q = -1 * np.sum(b_new)\n",
    "            print('переходим к основной задаче')\n",
    "            return col_indices, row_indices, A_new, b_new, c_out, neg_Q\n",
    "        else:\n",
    "            while any(ind in fict_base.values() for ind in row_indices):\n",
    "                for j in range(len(row_indices)):\n",
    "                    if row_indices[j] in fict_base.values():\n",
    "                        if A_new[j] == np.zeros(A_new.shape[1]):\n",
    "                            del row_indices[j]\n",
    "                            A_new = np.delete(A_new, j, 0)\n",
    "                        else:\n",
    "                            selected_col = np.argmax(abs(A_new[j]))\n",
    "                            selected_row = j\n",
    "                            A_new, b_new, c, neg_Q, col_indices, row_indices = recount_table(selected_row, selected_col,\n",
    "                                                                                             A_new, b_new, c, neg_Q,\n",
    "                                                                                             col_indices, row_indices)\n",
    "                            #отображаем результат шага\n",
    "                            simp_show(A_new, b_new, c, neg_Q, col_indices, row_indices)\n",
    "                            #удаляем столбец, если он соответствует базисной переменной дополнительной задачи\n",
    "                            A_new = np.delete(A_new, selected_col, 1)\n",
    "                            col_indices.remove(selected_col)\n",
    "            if neg_Q > 0:\n",
    "                print('задача не имеет решения')\n",
    "                return 'F'\n",
    "            else:\n",
    "                c_out = -1 * np.sum(A_new, axis=0)\n",
    "                neg_Q = -1 * np.sum(b_new)\n",
    "                print('переходим к основной задаче')\n",
    "                return col_indices, row_indices, A_new, b_new, c_out, neg_Q"
   ]
  },
  {
   "cell_type": "code",
   "execution_count": 221,
   "id": "5dc1dcf6",
   "metadata": {},
   "outputs": [
    {
     "name": "stdout",
     "output_type": "stream",
     "text": [
      "решаем дополнительную задачу\n",
      "     0    1    2    3    4     b\n",
      "5  3.0  0.0  2.0 -1.0  0.0  12.0\n",
      "6  1.0 -1.0  1.0  0.0  0.0   5.0\n",
      "7  1.0  0.0  1.0  0.0  1.0   6.0\n",
      "c [-5.  1. -4.  1. -1.] -23.0 \n",
      "\n",
      "          5    1         2         3    4    b\n",
      "0  0.333333  0.0  0.666667 -0.333333  0.0  4.0\n",
      "6 -0.333333 -1.0  0.333333  0.333333  0.0  1.0\n",
      "7 -0.333333  0.0  0.333333  0.333333  1.0  2.0\n",
      "c [ 1.66666667  1.         -0.66666667 -0.66666667 -1.        ] -3.0 \n",
      "\n",
      "     1         2         3    7    b\n",
      "0  0.0  0.666667 -0.333333 -0.0  4.0\n",
      "6 -1.0  0.333333  0.333333 -0.0  1.0\n",
      "4  0.0  0.333333  0.333333  1.0  2.0\n",
      "c [ 1.         -0.33333333 -0.33333333  1.        ] -1.0 \n",
      "\n",
      "     1    2    6    b\n",
      "0 -1.0  1.0  1.0  5.0\n",
      "3 -3.0  1.0  3.0  3.0\n",
      "4  1.0  0.0 -1.0  1.0\n",
      "c [-4.44089210e-16  3.33066907e-16  1.00000000e+00] 4.440892098500626e-16 \n",
      "\n",
      "     4    2    b\n",
      "0  1.0  1.0  6.0\n",
      "3  3.0  1.0  6.0\n",
      "1  1.0  0.0  1.0\n",
      "c [4.44089210e-16 3.33066907e-16] 8.881784197001252e-16 \n",
      "\n",
      "переходим к основной задаче\n",
      "     4    2    b\n",
      "0  1.0  1.0  6.0\n",
      "3  3.0  1.0  6.0\n",
      "1  1.0  0.0  1.0\n",
      "c [-5. -2.] -13.0 \n",
      "\n",
      "     1    2    b\n",
      "0 -1.0  1.0  5.0\n",
      "3 -3.0  1.0  3.0\n",
      "4  1.0  0.0  1.0\n",
      "c [ 5. -2.] -8.0 \n",
      "\n",
      "     1    3    b\n",
      "0  2.0 -1.0  2.0\n",
      "2 -3.0  1.0  3.0\n",
      "4  1.0 -0.0  1.0\n",
      "c [-1.  2.] -2.000000000000001 \n",
      "\n",
      "     4    3             b\n",
      "0 -2.0 -1.0  8.881784e-16\n",
      "2  3.0  1.0  6.000000e+00\n",
      "1  1.0 -0.0  1.000000e+00\n",
      "c [1. 2.] -1.0000000000000018 \n",
      "\n",
      "x1 = 0.0\n",
      "x3 = 6.0\n",
      "x2 = 1.0\n",
      "x5 = 0\n",
      "x4 = 0\n",
      "Qmin = 1.0000000000000018\n"
     ]
    }
   ],
   "source": [
    "simplex(A, b, c, neg_Q)"
   ]
  },
  {
   "cell_type": "code",
   "execution_count": null,
   "id": "5f5f8aca",
   "metadata": {},
   "outputs": [],
   "source": []
  }
 ],
 "metadata": {
  "kernelspec": {
   "display_name": "Python 3 (ipykernel)",
   "language": "python",
   "name": "python3"
  },
  "language_info": {
   "codemirror_mode": {
    "name": "ipython",
    "version": 3
   },
   "file_extension": ".py",
   "mimetype": "text/x-python",
   "name": "python",
   "nbconvert_exporter": "python",
   "pygments_lexer": "ipython3",
   "version": "3.9.7"
  }
 },
 "nbformat": 4,
 "nbformat_minor": 5
}
