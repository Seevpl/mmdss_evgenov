{
 "cells": [
  {
   "cell_type": "code",
   "execution_count": 87,
   "id": "ce401707",
   "metadata": {},
   "outputs": [],
   "source": [
    "import numpy as np\n",
    "import re"
   ]
  },
  {
   "cell_type": "code",
   "execution_count": 88,
   "id": "f607bf2a",
   "metadata": {},
   "outputs": [],
   "source": [
    "f = open('test', 'r')\n",
    "lines = f.readlines()"
   ]
  },
  {
   "cell_type": "code",
   "execution_count": 89,
   "id": "6f52c74e",
   "metadata": {
    "scrolled": true
   },
   "outputs": [
    {
     "data": {
      "text/plain": [
       "['3*x1-2*x2+4*x3+22->max\\n',\n",
       " 'x1+x2+3*x3<=12\\n',\n",
       " '2*x1+4*x2<=14\\n',\n",
       " 'x1+2*x2<=6\\n',\n",
       " 'x1>=0\\n',\n",
       " 'x2>=0\\n',\n",
       " 'x3>=0']"
      ]
     },
     "execution_count": 89,
     "metadata": {},
     "output_type": "execute_result"
    }
   ],
   "source": [
    "lines"
   ]
  },
  {
   "cell_type": "code",
   "execution_count": 90,
   "id": "8b9284ab",
   "metadata": {},
   "outputs": [],
   "source": [
    "#Составляем список и множество всех переменных, а также множество переменных, имеющих условие о положительности\n",
    "var_list = re.findall(r\"(?<=x)\\d+\", lines[0])\n",
    "all_vars = set(var_list)\n",
    "pat0 = re.compile(r\"x\\d+>=0\\n*\")\n",
    "pos_vars = set()\n",
    "pos_cond_line = 0\n",
    "for i in range(1, len(lines)):\n",
    "    if pat0.match(lines[i]):\n",
    "        pos_vars.add(re.search(r'\\d+', lines[i]).group())\n",
    "        if pos_cond_line == 0:\n",
    "            pos_cond_line = i"
   ]
  },
  {
   "cell_type": "code",
   "execution_count": 91,
   "id": "3998584c",
   "metadata": {},
   "outputs": [
    {
     "data": {
      "text/plain": [
       "{'1', '2', '3'}"
      ]
     },
     "execution_count": 91,
     "metadata": {},
     "output_type": "execute_result"
    }
   ],
   "source": [
    "pos_vars"
   ]
  },
  {
   "cell_type": "code",
   "execution_count": 92,
   "id": "d5b49ace",
   "metadata": {},
   "outputs": [
    {
     "data": {
      "text/plain": [
       "set()"
      ]
     },
     "execution_count": 92,
     "metadata": {},
     "output_type": "execute_result"
    }
   ],
   "source": [
    "all_vars - pos_vars"
   ]
  },
  {
   "cell_type": "code",
   "execution_count": 93,
   "id": "647a2a10",
   "metadata": {},
   "outputs": [],
   "source": [
    "#Функция замены переменных, не имеющих условий положительности\n",
    "def rand_var_replace(matr, c, var_to_replace):\n",
    "    new_var_col = []\n",
    "    for i in range(matr.shape[0]):\n",
    "        new_var_col.append([-matr[i][var_to_replace - 1]])\n",
    "    matr = np.hstack((matr, new_var_col))\n",
    "    c = np.append(c, -c[var_to_replace - 1])\n",
    "    return matr, c"
   ]
  },
  {
   "cell_type": "code",
   "execution_count": 94,
   "id": "d70e0b8d",
   "metadata": {},
   "outputs": [],
   "source": [
    "#составляем матрицу A и вектора b и c. Также сохраним в переменную свободный коэффициент\n",
    "#матрица A\n",
    "A = ['' for _ in range(len(var_list))]\n",
    "\n",
    "for j in range(1, pos_cond_line):\n",
    "    #смотрим на условия построчно\n",
    "    temp = lines[j]\n",
    "    temp_arr = list()\n",
    "    for k in var_list:\n",
    "        #ищем переменную в строке и добавляем в таблицу коэффициент перед ней\n",
    "        str_search0 = f\"-?\\d+(?=\\*x{k})\"\n",
    "        coef = re.findall(str_search0, temp)\n",
    "        if coef == []:\n",
    "            str_search1 = f\"-?x{k}\"\n",
    "            coef = re.findall(str_search1, temp)\n",
    "            if coef == []:\n",
    "                temp_arr.append(0)\n",
    "            elif coef[0][0] == \"-\":\n",
    "                temp_arr.append(-1)\n",
    "            else:\n",
    "                temp_arr.append(1)\n",
    "        else:\n",
    "            temp_arr.append(str(coef[0]))\n",
    "    A = np.vstack([A, temp_arr])\n",
    "A = np.delete(A, 0, axis = 0)\n",
    "A = A.astype(np.float64)\n",
    "\n",
    "#вектор b\n",
    "b = np.array([])\n",
    "for l in range(1, pos_cond_line):\n",
    "    temp = re.findall(r\"<=-?\\d+|>=-?\\d+\", lines[l])\n",
    "    b = np.append(b, temp)\n",
    "\n",
    "#вектор c\n",
    "c = np.array(re.findall(r\"\\d+(?=\\*x)\", lines[0]))\n",
    "с = c.astype(str)\n",
    "c = c.astype(np.float64)\n",
    "\n",
    "#свободный элемент Q\n",
    "neg_Q = re.findall(r\"[+,-]\\d+(?=-)\", lines[0])[0]\n",
    "if neg_Q[0] == '+':\n",
    "    neg_Q = '-' + neg_Q[1:]\n",
    "else:\n",
    "    neg_Q = neg_Q[1:]\n",
    "neg_Q = float(neg_Q)"
   ]
  },
  {
   "cell_type": "code",
   "execution_count": 95,
   "id": "c1c8f8ad",
   "metadata": {},
   "outputs": [],
   "source": [
    "#проверка, все ли переменные имеют условие о положительности, и добавление новых переменных с данным условием\n",
    "neg_replacements = {}\n",
    "if pos_vars != all_vars:\n",
    "    neg_vars = all_vars - pos_vars\n",
    "    for var in neg_vars:\n",
    "        #создаём словарь, где ключом является номер заменяемой переменной (на его место помещается переменная из замены,\n",
    "        #идущая с плюсом), а значением - номер, который для простоты присваивается переменной из замены, идущей с плюсом.\n",
    "        neg_replacements[var] = A.shape[1] + 1\n",
    "        A, c = rand_var_replace(A, c, int(var))"
   ]
  },
  {
   "cell_type": "code",
   "execution_count": 96,
   "id": "2eb850f2",
   "metadata": {},
   "outputs": [
    {
     "data": {
      "text/plain": [
       "array([3., 2., 4.])"
      ]
     },
     "execution_count": 96,
     "metadata": {},
     "output_type": "execute_result"
    }
   ],
   "source": [
    "c"
   ]
  },
  {
   "cell_type": "code",
   "execution_count": 97,
   "id": "0fbd695e",
   "metadata": {},
   "outputs": [
    {
     "data": {
      "text/plain": [
       "array([[1., 1., 3.],\n",
       "       [2., 4., 0.],\n",
       "       [1., 2., 0.]])"
      ]
     },
     "execution_count": 97,
     "metadata": {},
     "output_type": "execute_result"
    }
   ],
   "source": [
    "A"
   ]
  },
  {
   "cell_type": "code",
   "execution_count": 98,
   "id": "84e83354",
   "metadata": {},
   "outputs": [
    {
     "data": {
      "text/plain": [
       "array(['<=12', '<=14', '<=6'], dtype='<U32')"
      ]
     },
     "execution_count": 98,
     "metadata": {},
     "output_type": "execute_result"
    }
   ],
   "source": [
    "b"
   ]
  },
  {
   "cell_type": "code",
   "execution_count": 99,
   "id": "a56fe2fa",
   "metadata": {},
   "outputs": [
    {
     "data": {
      "text/plain": [
       "-22.0"
      ]
     },
     "execution_count": 99,
     "metadata": {},
     "output_type": "execute_result"
    }
   ],
   "source": [
    "neg_Q"
   ]
  },
  {
   "cell_type": "markdown",
   "id": "b16a995c",
   "metadata": {},
   "source": [
    "Приведение к каноническому виду"
   ]
  },
  {
   "cell_type": "code",
   "execution_count": 100,
   "id": "11cb1ca4",
   "metadata": {},
   "outputs": [],
   "source": [
    "#Проверка того, что решается задача минимизации, приведение к ней при необходимости\n",
    "if lines[0][-4:-1] == 'max':\n",
    "    c *= -1"
   ]
  },
  {
   "cell_type": "code",
   "execution_count": 101,
   "id": "a937e526",
   "metadata": {},
   "outputs": [
    {
     "name": "stdout",
     "output_type": "stream",
     "text": [
      "[-3. -2. -4.  0.] <\n",
      "[-3. -2. -4.  0.  0.] <\n",
      "[-3. -2. -4.  0.  0.  0.] <\n"
     ]
    }
   ],
   "source": [
    "#Устранение неравенств, приведение их к виду равенств посредством добавления новых переменных\n",
    "for i in range(len(b)):\n",
    "    if \"<\" in b[i]:\n",
    "        b[i] = re.findall(r\"\\d+\", b[i])[0]\n",
    "        A = np.hstack((A, np.zeros((3, 1), dtype=\"float\")))\n",
    "        A[i][-1] = 1.0\n",
    "        c = np.append(c, 0.0)\n",
    "    elif \">\" in b[i]:\n",
    "        b[i] = re.findall(r\"\\d+\", b[i])[0]\n",
    "        A = np.hstack((A, np.zeros((3, 1), dtype=\"float\")))\n",
    "        A[i][-1] = -1.0\n",
    "        c = np.append(c, 0.0)\n",
    "    else:\n",
    "        b[i] = re.findall(r\"\\d+\", b[i])[0]\n",
    "b = b.astype(str)\n",
    "b = b.astype(float)"
   ]
  },
  {
   "cell_type": "code",
   "execution_count": 102,
   "id": "e25a9c26",
   "metadata": {},
   "outputs": [
    {
     "data": {
      "text/plain": [
       "array([[1., 1., 3., 1., 0., 0.],\n",
       "       [2., 4., 0., 0., 1., 0.],\n",
       "       [1., 2., 0., 0., 0., 1.]])"
      ]
     },
     "execution_count": 102,
     "metadata": {},
     "output_type": "execute_result"
    }
   ],
   "source": [
    "A"
   ]
  },
  {
   "cell_type": "code",
   "execution_count": 103,
   "id": "89dadcd5",
   "metadata": {},
   "outputs": [
    {
     "data": {
      "text/plain": [
       "array([12., 14.,  6.])"
      ]
     },
     "execution_count": 103,
     "metadata": {},
     "output_type": "execute_result"
    }
   ],
   "source": [
    "b"
   ]
  },
  {
   "cell_type": "code",
   "execution_count": 104,
   "id": "428e769f",
   "metadata": {},
   "outputs": [
    {
     "data": {
      "text/plain": [
       "array([-3., -2., -4.,  0.,  0.,  0.])"
      ]
     },
     "execution_count": 104,
     "metadata": {},
     "output_type": "execute_result"
    }
   ],
   "source": [
    "c"
   ]
  },
  {
   "cell_type": "code",
   "execution_count": null,
   "id": "c4b256b5",
   "metadata": {},
   "outputs": [],
   "source": []
  }
 ],
 "metadata": {
  "kernelspec": {
   "display_name": "Python 3 (ipykernel)",
   "language": "python",
   "name": "python3"
  },
  "language_info": {
   "codemirror_mode": {
    "name": "ipython",
    "version": 3
   },
   "file_extension": ".py",
   "mimetype": "text/x-python",
   "name": "python",
   "nbconvert_exporter": "python",
   "pygments_lexer": "ipython3",
   "version": "3.9.7"
  }
 },
 "nbformat": 4,
 "nbformat_minor": 5
}
